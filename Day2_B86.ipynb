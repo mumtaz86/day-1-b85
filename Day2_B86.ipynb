{
 "cells": [
  {
   "cell_type": "code",
   "execution_count": 3,
   "id": "2881a223-39da-49d8-983b-6130f779c0d4",
   "metadata": {},
   "outputs": [],
   "source": [
    "first_name =\"Mumtaz\"\n"
   ]
  },
  {
   "cell_type": "code",
   "execution_count": 5,
   "id": "c1124da5-3c16-4f0d-829f-ff047e8d0286",
   "metadata": {},
   "outputs": [],
   "source": [
    "last_name = \"khan\""
   ]
  },
  {
   "cell_type": "code",
   "execution_count": 1,
   "id": "bd11eb8b-5265-4846-a2c3-40bb4c653f1f",
   "metadata": {},
   "outputs": [
    {
     "name": "stdout",
     "output_type": "stream",
     "text": [
      "The Zen of Python, by Tim Peters\n",
      "\n",
      "Beautiful is better than ugly.\n",
      "Explicit is better than implicit.\n",
      "Simple is better than complex.\n",
      "Complex is better than complicated.\n",
      "Flat is better than nested.\n",
      "Sparse is better than dense.\n",
      "Readability counts.\n",
      "Special cases aren't special enough to break the rules.\n",
      "Although practicality beats purity.\n",
      "Errors should never pass silently.\n",
      "Unless explicitly silenced.\n",
      "In the face of ambiguity, refuse the temptation to guess.\n",
      "There should be one-- and preferably only one --obvious way to do it.\n",
      "Although that way may not be obvious at first unless you're Dutch.\n",
      "Now is better than never.\n",
      "Although never is often better than *right* now.\n",
      "If the implementation is hard to explain, it's a bad idea.\n",
      "If the implementation is easy to explain, it may be a good idea.\n",
      "Namespaces are one honking great idea -- let's do more of those!\n"
     ]
    }
   ],
   "source": [
    "import this\n"
   ]
  },
  {
   "cell_type": "code",
   "execution_count": null,
   "id": "985cea2c-330e-49fc-a457-f55c5cb5c53a",
   "metadata": {},
   "outputs": [],
   "source": [
    "space between two words"
   ]
  },
  {
   "cell_type": "code",
   "execution_count": 6,
   "id": "513544a8-3cfe-41c8-adac-2128564c5e20",
   "metadata": {},
   "outputs": [],
   "source": [
    "full_name =f\"{first_name} {last_name}\""
   ]
  },
  {
   "cell_type": "code",
   "execution_count": 11,
   "id": "f5b72fa1-3a0f-4f92-b610-4269fd0e4d68",
   "metadata": {},
   "outputs": [
    {
     "name": "stdout",
     "output_type": "stream",
     "text": [
      "Mumtaz Khan\n"
     ]
    }
   ],
   "source": [
    "print(full_name.title())"
   ]
  },
  {
   "cell_type": "code",
   "execution_count": 13,
   "id": "114f05a8-197f-4cb0-a886-5d07e569ec92",
   "metadata": {},
   "outputs": [],
   "source": [
    "message = f\"Assalamualaikum {full_name.title()}\""
   ]
  },
  {
   "cell_type": "code",
   "execution_count": 14,
   "id": "b3337a79-124d-42b0-a266-f7de82ca0239",
   "metadata": {},
   "outputs": [
    {
     "name": "stdout",
     "output_type": "stream",
     "text": [
      "Assalamualaikum Mumtaz Khan\n"
     ]
    }
   ],
   "source": [
    "print(message)"
   ]
  },
  {
   "cell_type": "code",
   "execution_count": null,
   "id": "9d7a1988-e393-489f-9709-94b68aaf5665",
   "metadata": {},
   "outputs": [],
   "source": []
  },
  {
   "cell_type": "code",
   "execution_count": null,
   "id": "690fd2f6-0b17-456b-869b-e3584f4e14f0",
   "metadata": {},
   "outputs": [],
   "source": [
    "adding whitescpace to string example"
   ]
  },
  {
   "cell_type": "code",
   "execution_count": 15,
   "id": "32c9ce12-0bc0-468c-9f2d-a9b47b5fbef0",
   "metadata": {},
   "outputs": [
    {
     "name": "stdout",
     "output_type": "stream",
     "text": [
      "Favaourite programming languages:CJavaC++cobolpython\n"
     ]
    }
   ],
   "source": [
    "print(\"Favaourite programming languages:CJavaC++cobolpython\")"
   ]
  },
  {
   "cell_type": "code",
   "execution_count": 16,
   "id": "809dc5fc-75d4-4c97-98c3-be474c79b781",
   "metadata": {},
   "outputs": [
    {
     "name": "stdout",
     "output_type": "stream",
     "text": [
      "Favaourite programming languages:\n",
      "C\n",
      "Java\n",
      "C++\n",
      "cobol\n",
      "python\n"
     ]
    }
   ],
   "source": [
    "print(\"Favaourite programming languages:\\nC\\nJava\\nC++\\ncobol\\npython\")"
   ]
  },
  {
   "cell_type": "code",
   "execution_count": 17,
   "id": "d30731a6-31da-4339-80a1-c0d3ebceb741",
   "metadata": {},
   "outputs": [
    {
     "name": "stdout",
     "output_type": "stream",
     "text": [
      "Favaourite programming languages:\tC\tJava\tC++\tcobol\tpython\n"
     ]
    }
   ],
   "source": [
    "print(\"Favaourite programming languages:\\tC\\tJava\\tC++\\tcobol\\tpython\")"
   ]
  },
  {
   "cell_type": "code",
   "execution_count": 18,
   "id": "4f1fd7df-eddc-4413-8551-96992c1ad0ce",
   "metadata": {},
   "outputs": [
    {
     "name": "stdout",
     "output_type": "stream",
     "text": [
      "Favaourite programming languages:\n",
      "\tC\n",
      "\tJava\n",
      "\tC++\n",
      "\tcobol\n",
      "\tpython\n"
     ]
    }
   ],
   "source": [
    "print(\"Favaourite programming languages:\\n\\tC\\n\\tJava\\n\\tC++\\n\\tcobol\\n\\tpython\")"
   ]
  },
  {
   "cell_type": "code",
   "execution_count": null,
   "id": "1dd6c5b7-c83e-4d2e-b5cd-87dc3b0521fa",
   "metadata": {},
   "outputs": [],
   "source": []
  },
  {
   "cell_type": "code",
   "execution_count": null,
   "id": "c2434513-1283-4f93-91a4-d9a83cda906b",
   "metadata": {},
   "outputs": [],
   "source": [
    "removing whitespace "
   ]
  },
  {
   "cell_type": "code",
   "execution_count": 28,
   "id": "c258ada6-73e4-4e7c-afa1-f913779de44d",
   "metadata": {},
   "outputs": [],
   "source": [
    "name =\"   computer\""
   ]
  },
  {
   "cell_type": "code",
   "execution_count": 29,
   "id": "c1bafc1f-c021-459a-b051-233f31a4a75c",
   "metadata": {},
   "outputs": [
    {
     "name": "stdout",
     "output_type": "stream",
     "text": [
      "   computer\n"
     ]
    }
   ],
   "source": [
    "print(name) "
   ]
  },
  {
   "cell_type": "code",
   "execution_count": 28,
   "id": "f7eea488-13ec-4c4d-a974-89830c1664f4",
   "metadata": {},
   "outputs": [],
   "source": [
    "name =\"computer     \""
   ]
  },
  {
   "cell_type": "code",
   "execution_count": 30,
   "id": "15336234-71d3-448f-9e39-45a379797c0c",
   "metadata": {},
   "outputs": [
    {
     "name": "stdout",
     "output_type": "stream",
     "text": [
      "   computer\n"
     ]
    }
   ],
   "source": [
    "print(name)"
   ]
  },
  {
   "cell_type": "code",
   "execution_count": 34,
   "id": "023773af-f0c2-4f77-8110-ed2c1599425c",
   "metadata": {},
   "outputs": [
    {
     "name": "stdout",
     "output_type": "stream",
     "text": [
      "   computer\n"
     ]
    }
   ],
   "source": [
    "print(name.rstrip())"
   ]
  },
  {
   "cell_type": "code",
   "execution_count": 31,
   "id": "f3f7f9d6-1515-4281-a100-456c1baada70",
   "metadata": {},
   "outputs": [
    {
     "name": "stdout",
     "output_type": "stream",
     "text": [
      "computer\n"
     ]
    }
   ],
   "source": [
    "print(name.strip())"
   ]
  },
  {
   "cell_type": "code",
   "execution_count": null,
   "id": "c0b520b0-7dd0-48d3-b78f-ff49231c30cd",
   "metadata": {},
   "outputs": [],
   "source": [
    "name =\"     computer     \""
   ]
  },
  {
   "cell_type": "code",
   "execution_count": 32,
   "id": "76f07698-8a72-4c44-afa5-ea27047dbde3",
   "metadata": {},
   "outputs": [
    {
     "name": "stdout",
     "output_type": "stream",
     "text": [
      "   computer\n"
     ]
    }
   ],
   "source": [
    "print(name)"
   ]
  },
  {
   "cell_type": "code",
   "execution_count": 33,
   "id": "f8c5a6aa-4523-466f-8c74-8a47848a0112",
   "metadata": {},
   "outputs": [
    {
     "name": "stdout",
     "output_type": "stream",
     "text": [
      "computer\n"
     ]
    }
   ],
   "source": [
    "print(name.lstrip())"
   ]
  },
  {
   "cell_type": "code",
   "execution_count": null,
   "id": "4dadb882-05e5-46bb-8338-70cfebb75e7d",
   "metadata": {},
   "outputs": [],
   "source": []
  },
  {
   "cell_type": "code",
   "execution_count": null,
   "id": "b64be0f0-58af-41a9-b0df-4bc9f4b3d25d",
   "metadata": {},
   "outputs": [],
   "source": []
  },
  {
   "cell_type": "code",
   "execution_count": null,
   "id": "301945ca-89d0-4f92-91a9-e2fcd5a22a86",
   "metadata": {},
   "outputs": [],
   "source": []
  },
  {
   "cell_type": "code",
   "execution_count": null,
   "id": "53ff4673-d8f3-4a71-a61e-8966c8950d09",
   "metadata": {},
   "outputs": [],
   "source": []
  },
  {
   "cell_type": "code",
   "execution_count": null,
   "id": "2ee85568-de13-4fd9-9637-4d696e0e7c23",
   "metadata": {},
   "outputs": [],
   "source": []
  },
  {
   "cell_type": "code",
   "execution_count": null,
   "id": "9aca394e-4274-4650-b388-9484b833c139",
   "metadata": {},
   "outputs": [],
   "source": []
  },
  {
   "cell_type": "code",
   "execution_count": null,
   "id": "479d261d-8ae8-44ba-af13-e2467c072a2b",
   "metadata": {},
   "outputs": [],
   "source": []
  }
 ],
 "metadata": {
  "kernelspec": {
   "display_name": "Python 3 (ipykernel)",
   "language": "python",
   "name": "python3"
  },
  "language_info": {
   "codemirror_mode": {
    "name": "ipython",
    "version": 3
   },
   "file_extension": ".py",
   "mimetype": "text/x-python",
   "name": "python",
   "nbconvert_exporter": "python",
   "pygments_lexer": "ipython3",
   "version": "3.11.7"
  }
 },
 "nbformat": 4,
 "nbformat_minor": 5
}
