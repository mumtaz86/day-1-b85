{
 "cells": [
  {
   "cell_type": "code",
   "execution_count": null,
   "id": "2aac8276-61ce-44be-bde8-67796bdb13ac",
   "metadata": {},
   "outputs": [],
   "source": [
    "#list to add index value at end of list use append  type (listname)"
   ]
  },
  {
   "cell_type": "code",
   "execution_count": 2,
   "id": "5e3c455b-33bc-444d-aec8-48a277789824",
   "metadata": {},
   "outputs": [],
   "source": [
    "students = ['heena','john','priya','saif']"
   ]
  },
  {
   "cell_type": "code",
   "execution_count": 3,
   "id": "f2caa434-db01-4b6b-a71e-aec64dcf8b6e",
   "metadata": {},
   "outputs": [
    {
     "name": "stdout",
     "output_type": "stream",
     "text": [
      "['heena', 'john', 'priya', 'saif']\n"
     ]
    }
   ],
   "source": [
    "print(students)"
   ]
  },
  {
   "cell_type": "code",
   "execution_count": 4,
   "id": "9ad8a2a2-4b67-42a7-86a3-a6a6ab6fb88f",
   "metadata": {},
   "outputs": [
    {
     "data": {
      "text/plain": [
       "list"
      ]
     },
     "execution_count": 4,
     "metadata": {},
     "output_type": "execute_result"
    }
   ],
   "source": [
    "type(students)"
   ]
  },
  {
   "cell_type": "code",
   "execution_count": 5,
   "id": "481feb85-0fd5-46c4-aaca-6bc6ee863e72",
   "metadata": {},
   "outputs": [
    {
     "name": "stdout",
     "output_type": "stream",
     "text": [
      "['heena', 'john', 'priya', 'saif']\n"
     ]
    }
   ],
   "source": [
    "print(students)"
   ]
  },
  {
   "cell_type": "code",
   "execution_count": null,
   "id": "364ca6db-924a-42a5-a600-b29c61dcdd7b",
   "metadata": {},
   "outputs": [],
   "source": [
    "#print value of 03 index "
   ]
  },
  {
   "cell_type": "code",
   "execution_count": 7,
   "id": "a6140428-588a-4791-b227-dd9489698c8f",
   "metadata": {},
   "outputs": [
    {
     "name": "stdout",
     "output_type": "stream",
     "text": [
      "saif\n"
     ]
    }
   ],
   "source": [
    "print(students[3])"
   ]
  },
  {
   "cell_type": "code",
   "execution_count": null,
   "id": "d9a56b47-c64e-4f07-8276-9c9a7f54b45a",
   "metadata": {},
   "outputs": [],
   "source": [
    "#add new student to list  use students.append('  ...  ')"
   ]
  },
  {
   "cell_type": "code",
   "execution_count": 10,
   "id": "c620c833-185a-4dba-af08-0cd4d2c1ff78",
   "metadata": {},
   "outputs": [],
   "source": [
    "students.append('mumtaz')"
   ]
  },
  {
   "cell_type": "code",
   "execution_count": 14,
   "id": "a0bfb0c8-8fb9-4286-b801-32b3ea598a02",
   "metadata": {},
   "outputs": [],
   "source": [
    "students.insert(1,'sofia')"
   ]
  },
  {
   "cell_type": "code",
   "execution_count": 11,
   "id": "f4584667-fa3d-4969-ba29-e7504b42eaf7",
   "metadata": {},
   "outputs": [
    {
     "name": "stdout",
     "output_type": "stream",
     "text": [
      "['heena', 'john', 'priya', 'saif', 'mumtaz']\n"
     ]
    }
   ],
   "source": [
    "print(students)"
   ]
  },
  {
   "cell_type": "code",
   "execution_count": 15,
   "id": "32321e33-1b41-4496-92b3-4b8b0b4b70f9",
   "metadata": {},
   "outputs": [
    {
     "name": "stdout",
     "output_type": "stream",
     "text": [
      "['heena', 'sofia', 'john', 'priya', 'saif', 'mumtaz']\n"
     ]
    }
   ],
   "source": [
    "print(students)"
   ]
  },
  {
   "cell_type": "code",
   "execution_count": 16,
   "id": "651eb1ff-e6e2-4296-9ff4-55d09d4aed42",
   "metadata": {},
   "outputs": [
    {
     "name": "stdout",
     "output_type": "stream",
     "text": [
      "saif\n"
     ]
    }
   ],
   "source": [
    "print(students[4])"
   ]
  },
  {
   "cell_type": "code",
   "execution_count": null,
   "id": "24d79619-892f-44b3-8f2b-8bbbb1e34ecc",
   "metadata": {},
   "outputs": [],
   "source": [
    "# modify priya name to payalindex number is 03"
   ]
  },
  {
   "cell_type": "code",
   "execution_count": 19,
   "id": "843dc3ea-a3b3-41e1-9605-4cb7882a9ce4",
   "metadata": {},
   "outputs": [
    {
     "name": "stdout",
     "output_type": "stream",
     "text": [
      "Heena\n"
     ]
    }
   ],
   "source": [
    "print(students[0].title())"
   ]
  },
  {
   "cell_type": "code",
   "execution_count": 23,
   "id": "55e8b4a1-d5a9-4ef3-a621-ba7d54a9ff15",
   "metadata": {},
   "outputs": [],
   "source": [
    "students[3] = 'payal'"
   ]
  },
  {
   "cell_type": "code",
   "execution_count": 24,
   "id": "439d03d8-7e8f-4051-aabb-8a53fd7b881a",
   "metadata": {},
   "outputs": [
    {
     "name": "stdout",
     "output_type": "stream",
     "text": [
      "['heena', 'sofia', 'john', 'payal', 'saif', 'mumtaz']\n"
     ]
    }
   ],
   "source": [
    "print(students)"
   ]
  },
  {
   "cell_type": "code",
   "execution_count": null,
   "id": "b17419a0-ee6f-4e68-b0dc-f20b91c2bbc2",
   "metadata": {},
   "outputs": [],
   "source": [
    "#to delete use del"
   ]
  },
  {
   "cell_type": "code",
   "execution_count": 25,
   "id": "e837bac1-98ee-48e8-bd69-425b5ac2cead",
   "metadata": {},
   "outputs": [],
   "source": [
    "del students[2]"
   ]
  },
  {
   "cell_type": "code",
   "execution_count": 26,
   "id": "9c7a1734-d750-4da7-8e7c-4b4cd8b8d912",
   "metadata": {},
   "outputs": [
    {
     "name": "stdout",
     "output_type": "stream",
     "text": [
      "['heena', 'sofia', 'payal', 'saif', 'mumtaz']\n"
     ]
    }
   ],
   "source": [
    "print(students)"
   ]
  },
  {
   "cell_type": "code",
   "execution_count": null,
   "id": "088eadfa-bd9d-449e-a5a4-694a373cc926",
   "metadata": {},
   "outputs": [],
   "source": []
  }
 ],
 "metadata": {
  "kernelspec": {
   "display_name": "Python 3 (ipykernel)",
   "language": "python",
   "name": "python3"
  },
  "language_info": {
   "codemirror_mode": {
    "name": "ipython",
    "version": 3
   },
   "file_extension": ".py",
   "mimetype": "text/x-python",
   "name": "python",
   "nbconvert_exporter": "python",
   "pygments_lexer": "ipython3",
   "version": "3.11.7"
  }
 },
 "nbformat": 4,
 "nbformat_minor": 5
}
