{
 "cells": [
  {
   "cell_type": "code",
   "execution_count": null,
   "id": "be471c98-d121-4085-bf52-52ea1c936ae7",
   "metadata": {},
   "outputs": [],
   "source": [
    "#continuation of list data type\n"
   ]
  },
  {
   "cell_type": "code",
   "execution_count": null,
   "id": "92f4bf5f-324e-474e-acfc-8515544dba7f",
   "metadata": {},
   "outputs": [],
   "source": [
    "#sorted  to make original list order\n",
    "#sort to make permanent changes in list "
   ]
  },
  {
   "cell_type": "code",
   "execution_count": 11,
   "id": "bcc0d047-e995-4851-9608-83a6b0117af6",
   "metadata": {},
   "outputs": [],
   "source": [
    "stationary = ['pen','books','eraser','pencil','ruler','geometry box']"
   ]
  },
  {
   "cell_type": "code",
   "execution_count": 12,
   "id": "8facce54-2e9f-400a-8906-92be5430ef33",
   "metadata": {},
   "outputs": [
    {
     "name": "stdout",
     "output_type": "stream",
     "text": [
      "['pen', 'books', 'eraser', 'pencil', 'ruler', 'geometry box']\n"
     ]
    }
   ],
   "source": [
    "print(stationary)"
   ]
  },
  {
   "cell_type": "code",
   "execution_count": null,
   "id": "3181fcff-d3ff-4a3d-8ae0-bccc43f8701d",
   "metadata": {},
   "outputs": [],
   "source": [
    "# A-Z order  "
   ]
  },
  {
   "cell_type": "code",
   "execution_count": 13,
   "id": "3681f41a-30dc-4a63-8b55-81dc646467de",
   "metadata": {},
   "outputs": [
    {
     "name": "stdout",
     "output_type": "stream",
     "text": [
      "['books', 'eraser', 'geometry box', 'pen', 'pencil', 'ruler']\n"
     ]
    }
   ],
   "source": [
    "print(sorted(stationary))  #alphabetical order temp "
   ]
  },
  {
   "cell_type": "code",
   "execution_count": 14,
   "id": "1de0ae24-c649-41dd-be3b-6e807162db53",
   "metadata": {},
   "outputs": [
    {
     "name": "stdout",
     "output_type": "stream",
     "text": [
      "['pen', 'books', 'eraser', 'pencil', 'ruler', 'geometry box']\n"
     ]
    }
   ],
   "source": [
    "print(stationary)"
   ]
  },
  {
   "cell_type": "code",
   "execution_count": null,
   "id": "85531d4a-29a9-4efb-9956-cc2c7c888b85",
   "metadata": {},
   "outputs": [],
   "source": [
    "#length of order"
   ]
  },
  {
   "cell_type": "code",
   "execution_count": 15,
   "id": "73e39f62-b58e-4416-80c5-64d68c26e2ff",
   "metadata": {},
   "outputs": [
    {
     "data": {
      "text/plain": [
       "6"
      ]
     },
     "execution_count": 15,
     "metadata": {},
     "output_type": "execute_result"
    }
   ],
   "source": [
    "len(stationary)"
   ]
  },
  {
   "cell_type": "code",
   "execution_count": 12,
   "id": "166cae85-8162-433c-8fe9-a60bca987b7e",
   "metadata": {},
   "outputs": [
    {
     "name": "stdout",
     "output_type": "stream",
     "text": [
      "('pen', 'books', 'eraser', 'pencil', 'ruler', 'geometry box')\n"
     ]
    }
   ],
   "source": [
    "print(stationary)  #original order of list"
   ]
  },
  {
   "cell_type": "code",
   "execution_count": null,
   "id": "70a23944-84c4-463c-afee-4289aad088da",
   "metadata": {},
   "outputs": [],
   "source": [
    "# reverse order of list"
   ]
  },
  {
   "cell_type": "code",
   "execution_count": 16,
   "id": "65e8318b-f829-47f4-9028-9f7ffd0dcff8",
   "metadata": {},
   "outputs": [],
   "source": [
    "stationary.reverse()"
   ]
  },
  {
   "cell_type": "code",
   "execution_count": 17,
   "id": "869a8233-d14a-41cf-8d4c-343dd4d5536d",
   "metadata": {},
   "outputs": [
    {
     "name": "stdout",
     "output_type": "stream",
     "text": [
      "['geometry box', 'ruler', 'pencil', 'eraser', 'books', 'pen']\n"
     ]
    }
   ],
   "source": [
    "print(stationary)"
   ]
  },
  {
   "cell_type": "code",
   "execution_count": null,
   "id": "6f4ff5df-8479-42b8-9d74-dcf31df8a73d",
   "metadata": {},
   "outputs": [],
   "source": [
    "#slicing of list"
   ]
  },
  {
   "cell_type": "code",
   "execution_count": 18,
   "id": "ad20e8c9-38ec-4f29-af1a-77700dff9201",
   "metadata": {},
   "outputs": [
    {
     "data": {
      "text/plain": [
       "['pencil', 'eraser']"
      ]
     },
     "execution_count": 18,
     "metadata": {},
     "output_type": "execute_result"
    }
   ],
   "source": [
    "stationary[2:4]"
   ]
  },
  {
   "cell_type": "code",
   "execution_count": null,
   "id": "72d1b07d-0cb2-4cd0-8e6a-dfcb48ca0752",
   "metadata": {},
   "outputs": [],
   "source": []
  }
 ],
 "metadata": {
  "kernelspec": {
   "display_name": "Python 3 (ipykernel)",
   "language": "python",
   "name": "python3"
  },
  "language_info": {
   "codemirror_mode": {
    "name": "ipython",
    "version": 3
   },
   "file_extension": ".py",
   "mimetype": "text/x-python",
   "name": "python",
   "nbconvert_exporter": "python",
   "pygments_lexer": "ipython3",
   "version": "3.11.7"
  }
 },
 "nbformat": 4,
 "nbformat_minor": 5
}
