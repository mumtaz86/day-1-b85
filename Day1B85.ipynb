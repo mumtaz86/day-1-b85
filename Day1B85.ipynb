{
 "cells": [
  {
   "cell_type": "markdown",
   "id": "17166d2a-3fdb-4266-bd5a-46da6de27d0e",
   "metadata": {},
   "source": []
  },
  {
   "cell_type": "code",
   "execution_count": 1,
   "id": "a605b633-279b-414a-b3a0-2ef70d2fdbfa",
   "metadata": {},
   "outputs": [
    {
     "name": "stdout",
     "output_type": "stream",
     "text": [
      "Welcome to python programing!!!\n"
     ]
    }
   ],
   "source": [
    "print(\"Welcome to python programing!!!\")"
   ]
  },
  {
   "cell_type": "code",
   "execution_count": null,
   "id": "1c581817-92c1-4615-be53-5e387bf6a9b9",
   "metadata": {},
   "outputs": [],
   "source": []
  }
 ],
 "metadata": {
  "kernelspec": {
   "display_name": "Python 3 (ipykernel)",
   "language": "python",
   "name": "python3"
  },
  "language_info": {
   "codemirror_mode": {
    "name": "ipython",
    "version": 3
   },
   "file_extension": ".py",
   "mimetype": "text/x-python",
   "name": "python",
   "nbconvert_exporter": "python",
   "pygments_lexer": "ipython3",
   "version": "3.11.7"
  }
 },
 "nbformat": 4,
 "nbformat_minor": 5
}
